{
 "cells": [
  {
   "cell_type": "markdown",
   "metadata": {},
   "source": [
    "# An example of how to compute Stockfish in the chess domain\n",
    "\n",
    "A part of my MSc final project in Data Science."
   ]
  },
  {
   "cell_type": "markdown",
   "metadata": {},
   "source": [
    "## Data\n",
    "\n",
    "\n",
    "Source: https://database.lichess.org/#puzzles"
   ]
  },
  {
   "cell_type": "code",
   "execution_count": 1,
   "metadata": {},
   "outputs": [],
   "source": [
    "# Libraries\n",
    "import os\n",
    "import pandas as pd\n",
    "import datetime\n",
    "import warnings"
   ]
  },
  {
   "cell_type": "code",
   "execution_count": 2,
   "metadata": {},
   "outputs": [],
   "source": [
    "warnings.filterwarnings('ignore')"
   ]
  },
  {
   "cell_type": "code",
   "execution_count": 3,
   "metadata": {},
   "outputs": [],
   "source": [
    "# PATH\n",
    "src_path ='data_src/'\n",
    "# csv file\n",
    "src_file = \"lichess_db_puzzle.csv\"\n",
    "# Load dataframe\n",
    "df_chess = pd.read_csv(src_path+src_file, header=None)"
   ]
  },
  {
   "cell_type": "code",
   "execution_count": 4,
   "metadata": {},
   "outputs": [
    {
     "data": {
      "text/html": [
       "<div>\n",
       "<style scoped>\n",
       "    .dataframe tbody tr th:only-of-type {\n",
       "        vertical-align: middle;\n",
       "    }\n",
       "\n",
       "    .dataframe tbody tr th {\n",
       "        vertical-align: top;\n",
       "    }\n",
       "\n",
       "    .dataframe thead th {\n",
       "        text-align: right;\n",
       "    }\n",
       "</style>\n",
       "<table border=\"1\" class=\"dataframe\">\n",
       "  <thead>\n",
       "    <tr style=\"text-align: right;\">\n",
       "      <th></th>\n",
       "      <th>0</th>\n",
       "      <th>1</th>\n",
       "      <th>2</th>\n",
       "      <th>3</th>\n",
       "      <th>4</th>\n",
       "      <th>5</th>\n",
       "      <th>6</th>\n",
       "      <th>7</th>\n",
       "      <th>8</th>\n",
       "    </tr>\n",
       "  </thead>\n",
       "  <tbody>\n",
       "    <tr>\n",
       "      <th>0</th>\n",
       "      <td>00008</td>\n",
       "      <td>r6k/pp2r2p/4Rp1Q/3p4/8/1N1P2R1/PqP2bPP/7K b - ...</td>\n",
       "      <td>f2g3 e6e7 b2b1 b3c1 b1c1 h6c1</td>\n",
       "      <td>1891</td>\n",
       "      <td>74</td>\n",
       "      <td>100</td>\n",
       "      <td>169</td>\n",
       "      <td>crushing hangingPiece long middlegame</td>\n",
       "      <td>https://lichess.org/787zsVup/black#48</td>\n",
       "    </tr>\n",
       "    <tr>\n",
       "      <th>1</th>\n",
       "      <td>0000D</td>\n",
       "      <td>5rk1/1p3ppp/pq3b2/8/8/1P1Q1N2/P4PPP/3R2K1 w - ...</td>\n",
       "      <td>d3d6 f8d8 d6d8 f6d8</td>\n",
       "      <td>1511</td>\n",
       "      <td>74</td>\n",
       "      <td>97</td>\n",
       "      <td>3716</td>\n",
       "      <td>advantage endgame short</td>\n",
       "      <td>https://lichess.org/F8M8OS71#53</td>\n",
       "    </tr>\n",
       "    <tr>\n",
       "      <th>2</th>\n",
       "      <td>0009B</td>\n",
       "      <td>r2qr1k1/b1p2ppp/pp4n1/P1P1p3/4P1n1/B2P2Pb/3NBP...</td>\n",
       "      <td>b6c5 e2g4 h3g4 d1g4</td>\n",
       "      <td>1133</td>\n",
       "      <td>75</td>\n",
       "      <td>85</td>\n",
       "      <td>480</td>\n",
       "      <td>advantage middlegame short</td>\n",
       "      <td>https://lichess.org/4MWQCxQ6/black#32</td>\n",
       "    </tr>\n",
       "    <tr>\n",
       "      <th>3</th>\n",
       "      <td>000aY</td>\n",
       "      <td>r4rk1/pp3ppp/2n1b3/q1pp2B1/8/P1Q2NP1/1PP1PP1P/...</td>\n",
       "      <td>g5e7 a5c3 b2c3 c6e7</td>\n",
       "      <td>1426</td>\n",
       "      <td>74</td>\n",
       "      <td>91</td>\n",
       "      <td>251</td>\n",
       "      <td>advantage master middlegame short</td>\n",
       "      <td>https://lichess.org/iihZGl6t#29</td>\n",
       "    </tr>\n",
       "    <tr>\n",
       "      <th>4</th>\n",
       "      <td>000h7</td>\n",
       "      <td>3q1rk1/1pp3pp/5p1P/4pPP1/rb1pP3/3P1N2/b1P1B3/2...</td>\n",
       "      <td>d8a8 g5g6 h7g6 h6g7</td>\n",
       "      <td>2318</td>\n",
       "      <td>87</td>\n",
       "      <td>83</td>\n",
       "      <td>219</td>\n",
       "      <td>advancedPawn crushing kingsideAttack middlegam...</td>\n",
       "      <td>https://lichess.org/FLmpZbTm/black#52</td>\n",
       "    </tr>\n",
       "  </tbody>\n",
       "</table>\n",
       "</div>"
      ],
      "text/plain": [
       "       0                                                  1  \\\n",
       "0  00008  r6k/pp2r2p/4Rp1Q/3p4/8/1N1P2R1/PqP2bPP/7K b - ...   \n",
       "1  0000D  5rk1/1p3ppp/pq3b2/8/8/1P1Q1N2/P4PPP/3R2K1 w - ...   \n",
       "2  0009B  r2qr1k1/b1p2ppp/pp4n1/P1P1p3/4P1n1/B2P2Pb/3NBP...   \n",
       "3  000aY  r4rk1/pp3ppp/2n1b3/q1pp2B1/8/P1Q2NP1/1PP1PP1P/...   \n",
       "4  000h7  3q1rk1/1pp3pp/5p1P/4pPP1/rb1pP3/3P1N2/b1P1B3/2...   \n",
       "\n",
       "                               2     3   4    5     6  \\\n",
       "0  f2g3 e6e7 b2b1 b3c1 b1c1 h6c1  1891  74  100   169   \n",
       "1            d3d6 f8d8 d6d8 f6d8  1511  74   97  3716   \n",
       "2            b6c5 e2g4 h3g4 d1g4  1133  75   85   480   \n",
       "3            g5e7 a5c3 b2c3 c6e7  1426  74   91   251   \n",
       "4            d8a8 g5g6 h7g6 h6g7  2318  87   83   219   \n",
       "\n",
       "                                                   7  \\\n",
       "0              crushing hangingPiece long middlegame   \n",
       "1                            advantage endgame short   \n",
       "2                         advantage middlegame short   \n",
       "3                  advantage master middlegame short   \n",
       "4  advancedPawn crushing kingsideAttack middlegam...   \n",
       "\n",
       "                                       8  \n",
       "0  https://lichess.org/787zsVup/black#48  \n",
       "1        https://lichess.org/F8M8OS71#53  \n",
       "2  https://lichess.org/4MWQCxQ6/black#32  \n",
       "3        https://lichess.org/iihZGl6t#29  \n",
       "4  https://lichess.org/FLmpZbTm/black#52  "
      ]
     },
     "execution_count": 4,
     "metadata": {},
     "output_type": "execute_result"
    }
   ],
   "source": [
    "df_chess.head()"
   ]
  },
  {
   "cell_type": "code",
   "execution_count": 5,
   "metadata": {},
   "outputs": [
    {
     "name": "stdout",
     "output_type": "stream",
     "text": [
      "There are 1606858 fens.\n"
     ]
    }
   ],
   "source": [
    "# FEN in the second column\n",
    "# FEN: https://www.chess.com/terms/fen-chess\n",
    "fens = list(df_chess[1])\n",
    "n_fens = len(fens)\n",
    "print(f\"There are {n_fens} fens.\")"
   ]
  },
  {
   "cell_type": "code",
   "execution_count": 6,
   "metadata": {},
   "outputs": [
    {
     "name": "stdout",
     "output_type": "stream",
     "text": [
      "File fens.txt exists.\n",
      "File fens.txt deleted.\n"
     ]
    }
   ],
   "source": [
    "# File managment\n",
    "path = os.getcwd()\n",
    "# print(f\"Path: {path}\")\n",
    "file_original = \"fens.txt\"\n",
    "# print(f\"File: {file_original}\")\n",
    "file = os.path.join(path ,file_original)\n",
    "# print(f\"Path/file: {file}\")\n",
    "# We check that the file does not exist right now before creating it (below)\n",
    "if os.path.exists(file):\n",
    "    print(f\"File {file_original} exists.\")\n",
    "    # print(f\"File {file} exists.\")\n",
    "    os.remove(\"fens.txt\")\n",
    "    print(f\"File {file_original} deleted.\")\n",
    "    # print(f\"File {file_original} deleted from the {path} path.\")\n",
    "else:\n",
    "    print(f\"File {file_original} does not exist.\")  \n",
    "    # print(f\"File {file} does not exist.\")   "
   ]
  },
  {
   "cell_type": "code",
   "execution_count": 7,
   "metadata": {},
   "outputs": [],
   "source": [
    "# Create and open the file\n",
    "fichero_fens = open(\"fens.txt\", \"w\")\n",
    "i = 0 \n",
    "lim_fens = 100 # to avoid a huge computational needs\n",
    "fens = fens[:lim_fens]\n",
    "for fen in fens:\n",
    "    # we start at 1 for an aesthetic issue\n",
    "    pos = i + 1\n",
    "    fichero_fens.write(f\"FEN {pos}: {fen};\")\n",
    "    # Endline\n",
    "    fichero_fens.write(\"\\n\")\n",
    "    i+=1\n",
    "# Close the file after finishing\n",
    "fichero_fens.close()"
   ]
  },
  {
   "cell_type": "markdown",
   "metadata": {},
   "source": [
    "## Stockfish"
   ]
  },
  {
   "cell_type": "code",
   "execution_count": 8,
   "metadata": {},
   "outputs": [],
   "source": [
    "# Import stockfish (after insalling) -> try except to show since it is not a common library\n",
    "try:\n",
    "    from stockfish import Stockfish\n",
    "except:\n",
    "    %pip install stockfish\n",
    "    from stockfish import Stockfish\n",
    "    "
   ]
  },
  {
   "cell_type": "code",
   "execution_count": 9,
   "metadata": {},
   "outputs": [],
   "source": [
    "process = \"stockfish.exe\"\n",
    "PATH_STOCKFISH = os.path.join(path, process) # the path variable was defined at above"
   ]
  },
  {
   "cell_type": "code",
   "execution_count": 10,
   "metadata": {},
   "outputs": [],
   "source": [
    "# This code is a must due to I should kill each stockfish process at finishing the execution or it will be accumulated and probably will cause a computational problem\n",
    "def killStockfish(proc):\n",
    "    os.system(\"taskkill /f /im  \" + proc)"
   ]
  },
  {
   "cell_type": "code",
   "execution_count": 11,
   "metadata": {},
   "outputs": [
    {
     "name": "stdout",
     "output_type": "stream",
     "text": [
      "Iteration 1/100\n",
      "Iteration 2/100\n",
      "Iteration 3/100\n",
      "Iteration 4/100\n",
      "Iteration 5/100\n",
      "Iteration 6/100\n",
      "Iteration 7/100\n",
      "Iteration 8/100\n",
      "Iteration 9/100\n",
      "Iteration 10/100\n",
      "Iteration 11/100\n",
      "Iteration 12/100\n",
      "Iteration 13/100\n",
      "Iteration 14/100\n",
      "Iteration 15/100\n",
      "Iteration 16/100\n",
      "Iteration 17/100\n",
      "Iteration 18/100\n",
      "Iteration 19/100\n",
      "Iteration 20/100\n",
      "Iteration 21/100\n",
      "Iteration 22/100\n",
      "Iteration 23/100\n",
      "Iteration 24/100\n",
      "Iteration 25/100\n",
      "Iteration 26/100\n",
      "Iteration 27/100\n",
      "Iteration 28/100\n",
      "Iteration 29/100\n",
      "Iteration 30/100\n",
      "Iteration 31/100\n",
      "Iteration 32/100\n",
      "Iteration 33/100\n",
      "Iteration 34/100\n",
      "Iteration 35/100\n",
      "Iteration 36/100\n",
      "Iteration 37/100\n",
      "Iteration 38/100\n",
      "Iteration 39/100\n",
      "Iteration 40/100\n",
      "Iteration 41/100\n",
      "Iteration 42/100\n",
      "Iteration 43/100\n",
      "Iteration 44/100\n",
      "Iteration 45/100\n",
      "Iteration 46/100\n",
      "Iteration 47/100\n",
      "Iteration 48/100\n",
      "Iteration 49/100\n",
      "Iteration 50/100\n",
      "Iteration 51/100\n",
      "Iteration 52/100\n",
      "Iteration 53/100\n",
      "Iteration 54/100\n",
      "Iteration 55/100\n",
      "Iteration 56/100\n",
      "Iteration 57/100\n",
      "Iteration 58/100\n",
      "Iteration 59/100\n",
      "Iteration 60/100\n",
      "Iteration 61/100\n",
      "Iteration 62/100\n",
      "Iteration 63/100\n",
      "Iteration 64/100\n",
      "Iteration 65/100\n",
      "Iteration 66/100\n",
      "Iteration 67/100\n",
      "Iteration 68/100\n",
      "Iteration 69/100\n",
      "Iteration 70/100\n",
      "Iteration 71/100\n",
      "Iteration 72/100\n",
      "Iteration 73/100\n",
      "Iteration 74/100\n",
      "Iteration 75/100\n",
      "Iteration 76/100\n",
      "Iteration 77/100\n",
      "Iteration 78/100\n",
      "Iteration 79/100\n",
      "Iteration 80/100\n",
      "Iteration 81/100\n",
      "Iteration 82/100\n",
      "Iteration 83/100\n",
      "Iteration 84/100\n",
      "Iteration 85/100\n",
      "Iteration 86/100\n",
      "Iteration 87/100\n",
      "Iteration 88/100\n",
      "Iteration 89/100\n",
      "Iteration 90/100\n",
      "Iteration 91/100\n",
      "Iteration 92/100\n",
      "Iteration 93/100\n",
      "Iteration 94/100\n",
      "Iteration 95/100\n",
      "Iteration 96/100\n",
      "Iteration 97/100\n",
      "Iteration 98/100\n",
      "Iteration 99/100\n",
      "Iteration 100/100\n",
      "It has taken 18.777 seconds in looping 100 FENs.\n"
     ]
    }
   ],
   "source": [
    "# FEN loop\n",
    "evaluations, best_moves, players = [], [], []\n",
    "i = 1\n",
    "t_ini = datetime.datetime.now().timestamp()\n",
    "## Stockfish engine starts\n",
    "stockfish = Stockfish(PATH_STOCKFISH)\n",
    "for fen in fens:\n",
    "    print(f\"Iteration {i}/{lim_fens}\") # the lim_fens variable was defined above\n",
    "    ## position evaluation\n",
    "    board  = stockfish.set_fen_position(fen)\n",
    "    result = stockfish.get_evaluation()\n",
    "    evaluations.append(result)\n",
    "    ## best move\n",
    "    best_move = stockfish.get_best_move()\n",
    "    best_moves.append(best_move)\n",
    "    ## player\n",
    "    player = \"white\" if \" b \" not in fen else \"black\"\n",
    "    players.append(player)\n",
    "    # next iteration\n",
    "    i+=1\n",
    "# kill stockfish\n",
    "killStockfish(process) # the process variable was defined above\n",
    "# execution time\n",
    "t = round(datetime.datetime.now().timestamp() - t_ini,3)\n",
    "print(f\"It has taken {t} seconds in looping {lim_fens} FENs.\")"
   ]
  },
  {
   "cell_type": "markdown",
   "metadata": {},
   "source": [
    "## Export data"
   ]
  },
  {
   "cell_type": "code",
   "execution_count": 12,
   "metadata": {},
   "outputs": [
    {
     "data": {
      "text/html": [
       "<div>\n",
       "<style scoped>\n",
       "    .dataframe tbody tr th:only-of-type {\n",
       "        vertical-align: middle;\n",
       "    }\n",
       "\n",
       "    .dataframe tbody tr th {\n",
       "        vertical-align: top;\n",
       "    }\n",
       "\n",
       "    .dataframe thead th {\n",
       "        text-align: right;\n",
       "    }\n",
       "</style>\n",
       "<table border=\"1\" class=\"dataframe\">\n",
       "  <thead>\n",
       "    <tr style=\"text-align: right;\">\n",
       "      <th></th>\n",
       "      <th>fen</th>\n",
       "      <th>evaluation</th>\n",
       "      <th>player</th>\n",
       "      <th>best:move</th>\n",
       "    </tr>\n",
       "  </thead>\n",
       "  <tbody>\n",
       "    <tr>\n",
       "      <th>0</th>\n",
       "      <td>r6k/pp2r2p/4Rp1Q/3p4/8/1N1P2R1/PqP2bPP/7K b - ...</td>\n",
       "      <td>{'type': 'cp', 'value': -444}</td>\n",
       "      <td>black</td>\n",
       "      <td>b2b1</td>\n",
       "    </tr>\n",
       "    <tr>\n",
       "      <th>1</th>\n",
       "      <td>5rk1/1p3ppp/pq3b2/8/8/1P1Q1N2/P4PPP/3R2K1 w - ...</td>\n",
       "      <td>{'type': 'cp', 'value': -8}</td>\n",
       "      <td>white</td>\n",
       "      <td>d3e4</td>\n",
       "    </tr>\n",
       "    <tr>\n",
       "      <th>2</th>\n",
       "      <td>r2qr1k1/b1p2ppp/pp4n1/P1P1p3/4P1n1/B2P2Pb/3NBP...</td>\n",
       "      <td>{'type': 'cp', 'value': -392}</td>\n",
       "      <td>black</td>\n",
       "      <td>g4f2</td>\n",
       "    </tr>\n",
       "    <tr>\n",
       "      <th>3</th>\n",
       "      <td>r4rk1/pp3ppp/2n1b3/q1pp2B1/8/P1Q2NP1/1PP1PP1P/...</td>\n",
       "      <td>{'type': 'cp', 'value': -87}</td>\n",
       "      <td>white</td>\n",
       "      <td>c3a5</td>\n",
       "    </tr>\n",
       "    <tr>\n",
       "      <th>4</th>\n",
       "      <td>3q1rk1/1pp3pp/5p1P/4pPP1/rb1pP3/3P1N2/b1P1B3/2...</td>\n",
       "      <td>{'type': 'cp', 'value': -73}</td>\n",
       "      <td>black</td>\n",
       "      <td>g7g6</td>\n",
       "    </tr>\n",
       "  </tbody>\n",
       "</table>\n",
       "</div>"
      ],
      "text/plain": [
       "                                                 fen  \\\n",
       "0  r6k/pp2r2p/4Rp1Q/3p4/8/1N1P2R1/PqP2bPP/7K b - ...   \n",
       "1  5rk1/1p3ppp/pq3b2/8/8/1P1Q1N2/P4PPP/3R2K1 w - ...   \n",
       "2  r2qr1k1/b1p2ppp/pp4n1/P1P1p3/4P1n1/B2P2Pb/3NBP...   \n",
       "3  r4rk1/pp3ppp/2n1b3/q1pp2B1/8/P1Q2NP1/1PP1PP1P/...   \n",
       "4  3q1rk1/1pp3pp/5p1P/4pPP1/rb1pP3/3P1N2/b1P1B3/2...   \n",
       "\n",
       "                      evaluation player best:move  \n",
       "0  {'type': 'cp', 'value': -444}  black      b2b1  \n",
       "1    {'type': 'cp', 'value': -8}  white      d3e4  \n",
       "2  {'type': 'cp', 'value': -392}  black      g4f2  \n",
       "3   {'type': 'cp', 'value': -87}  white      c3a5  \n",
       "4   {'type': 'cp', 'value': -73}  black      g7g6  "
      ]
     },
     "execution_count": 12,
     "metadata": {},
     "output_type": "execute_result"
    }
   ],
   "source": [
    "data_stockfish = {'fen': fens, 'evaluation': evaluations, 'player': players, 'best:move': best_moves}\n",
    "df_stockfish = pd.DataFrame(data=data_stockfish)\n",
    "df_stockfish.head()"
   ]
  },
  {
   "cell_type": "markdown",
   "metadata": {},
   "source": [
    "Very high and low ratings are observed, in other words, a great advantage for one of the two players.\n",
    "\n",
    "This is logical since the FEN dataset corresponds to a set of positions referring to different tactical puzzles where one player will win because has a huge advantage."
   ]
  },
  {
   "cell_type": "code",
   "execution_count": 13,
   "metadata": {},
   "outputs": [],
   "source": [
    "dst_path = os.path.join(os.path.join(path, \"data_dst\"), \"fen_stockfish.csv\")\n",
    "df_stockfish.to_csv(dst_path, encoding='utf-8-sig')"
   ]
  }
 ],
 "metadata": {
  "kernelspec": {
   "display_name": "tfm-env",
   "language": "python",
   "name": "python3"
  },
  "language_info": {
   "codemirror_mode": {
    "name": "ipython",
    "version": 3
   },
   "file_extension": ".py",
   "mimetype": "text/x-python",
   "name": "python",
   "nbconvert_exporter": "python",
   "pygments_lexer": "ipython3",
   "version": "3.10.18"
  }
 },
 "nbformat": 4,
 "nbformat_minor": 4
}
